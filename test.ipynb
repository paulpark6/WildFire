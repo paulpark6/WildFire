{
 "cells": [
  {
   "cell_type": "code",
   "execution_count": 1,
   "metadata": {},
   "outputs": [],
   "source": [
    "import pandas as pd\n",
    "\n",
    "df_wildfire = pd.read_csv(\"fp-historical-wildfire-data-2006-2021.csv\")"
   ]
  },
  {
   "cell_type": "code",
   "execution_count": 3,
   "metadata": {},
   "outputs": [
    {
     "name": "stdout",
     "output_type": "stream",
     "text": [
      "<class 'pandas.core.frame.DataFrame'>\n",
      "RangeIndex: 22914 entries, 0 to 22913\n",
      "Data columns (total 50 columns):\n",
      " #   Column                        Non-Null Count  Dtype  \n",
      "---  ------                        --------------  -----  \n",
      " 0   fire_year                     22914 non-null  int64  \n",
      " 1   fire_number                   22914 non-null  object \n",
      " 2   fire_name                     604 non-null    object \n",
      " 3   current_size                  22914 non-null  float64\n",
      " 4   size_class                    22914 non-null  object \n",
      " 5   fire_location_latitude        22914 non-null  float64\n",
      " 6   fire_location_longitude       22914 non-null  float64\n",
      " 7   fire_origin                   22905 non-null  object \n",
      " 8   general_cause_desc            22914 non-null  object \n",
      " 9   industry_identifier_desc      408 non-null    object \n",
      " 10  responsible_group_desc        9031 non-null   object \n",
      " 11  activity_class                14204 non-null  object \n",
      " 12  true_cause                    12488 non-null  object \n",
      " 13  fire_start_date               22294 non-null  object \n",
      " 14  det_agent                     22913 non-null  object \n",
      " 15  det_agent_type                22913 non-null  object \n",
      " 16  discovered_date               18936 non-null  object \n",
      " 17  discovered_size               0 non-null      float64\n",
      " 18  reported_date                 22913 non-null  object \n",
      " 19  dispatched_resource           22908 non-null  object \n",
      " 20  dispatch_date                 22908 non-null  object \n",
      " 21  start_for_fire_date           22907 non-null  object \n",
      " 22  assessment_resource           22914 non-null  object \n",
      " 23  assessment_datetime           22914 non-null  object \n",
      " 24  assessment_hectares           22914 non-null  float64\n",
      " 25  fire_spread_rate              20305 non-null  float64\n",
      " 26  fire_type                     20437 non-null  object \n",
      " 27  fire_position_on_slope        20265 non-null  object \n",
      " 28  weather_conditions_over_fire  20258 non-null  object \n",
      " 29  temperature                   20257 non-null  float64\n",
      " 30  relative_humidity             20255 non-null  float64\n",
      " 31  wind_direction                20254 non-null  object \n",
      " 32  wind_speed                    20254 non-null  float64\n",
      " 33  fuel_type                     16026 non-null  object \n",
      " 34  initial_action_by             22907 non-null  object \n",
      " 35  ia_arrival_at_fire_date       16387 non-null  object \n",
      " 36  ia_access                     10076 non-null  object \n",
      " 37  fire_fighting_start_date      16507 non-null  object \n",
      " 38  fire_fighting_start_size      16507 non-null  float64\n",
      " 39  bucketing_on_fire             16338 non-null  object \n",
      " 40  distance_from_water_source    6365 non-null   float64\n",
      " 41  first_bucket_drop_date        6365 non-null   object \n",
      " 42  bh_fs_date                    22914 non-null  object \n",
      " 43  bh_hectares                   22914 non-null  float64\n",
      " 44  uc_fs_date                    22914 non-null  object \n",
      " 45  uc_hectares                   22914 non-null  float64\n",
      " 46  to_fs_date                    2444 non-null   object \n",
      " 47  to_hectares                   2444 non-null   float64\n",
      " 48  ex_fs_date                    22914 non-null  object \n",
      " 49  ex_hectares                   22914 non-null  float64\n",
      "dtypes: float64(15), int64(1), object(34)\n",
      "memory usage: 8.7+ MB\n"
     ]
    }
   ],
   "source": [
    "df_wildfire.info()"
   ]
  },
  {
   "cell_type": "code",
   "execution_count": 6,
   "metadata": {},
   "outputs": [
    {
     "data": {
      "text/plain": [
       "2530"
      ]
     },
     "execution_count": 6,
     "metadata": {},
     "output_type": "execute_result"
    }
   ],
   "source": [
    "df_wildfire[\"fire_number\"].nunique()"
   ]
  },
  {
   "cell_type": "code",
   "execution_count": 2,
   "metadata": {},
   "outputs": [
    {
     "data": {
      "text/html": [
       "<div>\n",
       "<style scoped>\n",
       "    .dataframe tbody tr th:only-of-type {\n",
       "        vertical-align: middle;\n",
       "    }\n",
       "\n",
       "    .dataframe tbody tr th {\n",
       "        vertical-align: top;\n",
       "    }\n",
       "\n",
       "    .dataframe thead th {\n",
       "        text-align: right;\n",
       "    }\n",
       "</style>\n",
       "<table border=\"1\" class=\"dataframe\">\n",
       "  <thead>\n",
       "    <tr style=\"text-align: right;\">\n",
       "      <th></th>\n",
       "      <th>fire_year</th>\n",
       "      <th>fire_number</th>\n",
       "      <th>fire_name</th>\n",
       "      <th>current_size</th>\n",
       "      <th>size_class</th>\n",
       "      <th>fire_location_latitude</th>\n",
       "      <th>fire_location_longitude</th>\n",
       "      <th>fire_origin</th>\n",
       "      <th>general_cause_desc</th>\n",
       "      <th>industry_identifier_desc</th>\n",
       "      <th>...</th>\n",
       "      <th>distance_from_water_source</th>\n",
       "      <th>first_bucket_drop_date</th>\n",
       "      <th>bh_fs_date</th>\n",
       "      <th>bh_hectares</th>\n",
       "      <th>uc_fs_date</th>\n",
       "      <th>uc_hectares</th>\n",
       "      <th>to_fs_date</th>\n",
       "      <th>to_hectares</th>\n",
       "      <th>ex_fs_date</th>\n",
       "      <th>ex_hectares</th>\n",
       "    </tr>\n",
       "  </thead>\n",
       "  <tbody>\n",
       "  </tbody>\n",
       "</table>\n",
       "<p>0 rows × 50 columns</p>\n",
       "</div>"
      ],
      "text/plain": [
       "Empty DataFrame\n",
       "Columns: [fire_year, fire_number, fire_name, current_size, size_class, fire_location_latitude, fire_location_longitude, fire_origin, general_cause_desc, industry_identifier_desc, responsible_group_desc, activity_class, true_cause, fire_start_date, det_agent, det_agent_type, discovered_date, discovered_size, reported_date, dispatched_resource, dispatch_date, start_for_fire_date, assessment_resource, assessment_datetime, assessment_hectares, fire_spread_rate, fire_type, fire_position_on_slope, weather_conditions_over_fire, temperature, relative_humidity, wind_direction, wind_speed, fuel_type, initial_action_by, ia_arrival_at_fire_date, ia_access, fire_fighting_start_date, fire_fighting_start_size, bucketing_on_fire, distance_from_water_source, first_bucket_drop_date, bh_fs_date, bh_hectares, uc_fs_date, uc_hectares, to_fs_date, to_hectares, ex_fs_date, ex_hectares]\n",
       "Index: []\n",
       "\n",
       "[0 rows x 50 columns]"
      ]
     },
     "execution_count": 2,
     "metadata": {},
     "output_type": "execute_result"
    }
   ],
   "source": [
    "df_wildfire[df_wildfire[\"fire_number\"].isna()]"
   ]
  }
 ],
 "metadata": {
  "kernelspec": {
   "display_name": "Python 3",
   "language": "python",
   "name": "python3"
  },
  "language_info": {
   "codemirror_mode": {
    "name": "ipython",
    "version": 3
   },
   "file_extension": ".py",
   "mimetype": "text/x-python",
   "name": "python",
   "nbconvert_exporter": "python",
   "pygments_lexer": "ipython3",
   "version": "3.12.2"
  }
 },
 "nbformat": 4,
 "nbformat_minor": 2
}
